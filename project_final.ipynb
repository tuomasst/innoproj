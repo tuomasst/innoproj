{
 "cells": [
  {
   "cell_type": "code",
   "execution_count": 56,
   "metadata": {},
   "outputs": [
    {
     "name": "stdout",
     "output_type": "stream",
     "text": [
      "(16588, 67)\n"
     ]
    },
    {
     "name": "stderr",
     "output_type": "stream",
     "text": [
      "C:\\Users\\Tuomas\\Anaconda3\\lib\\site-packages\\IPython\\core\\interactiveshell.py:3058: DtypeWarning: Columns (6,7,27,36,38) have mixed types. Specify dtype option on import or set low_memory=False.\n",
      "  interactivity=interactivity, compiler=compiler, result=result)\n"
     ]
    }
   ],
   "source": [
    "import pandas as pd\n",
    "import numpy as np\n",
    "import urllib.request\n",
    "import matplotlib.pyplot as plt\n",
    "import matplotlib\n",
    "from matplotlib.pyplot import figure\n",
    "\n",
    "# read yritysdata\n",
    "df = pd.read_csv('./ydata4.csv', header=0, sep=';')\n",
    "\n",
    "# shape and data types of the data\n",
    "print(df.shape)\n",
    "#print(df.dtypes)"
   ]
  },
  {
   "cell_type": "code",
   "execution_count": 9,
   "metadata": {},
   "outputs": [],
   "source": [
    "# vanha osoitedata\n",
    "# download csv\n",
    "#url = 'https://kartta.hel.fi/ws/geoserver/avoindata/wfs?version=1.1.0&request=GetFeature&typeName=avoindata:Helsinki_nimisto&outputformat=csv'\n",
    "#urllib.request.urlretrieve(url, 'wfsdata.csv')"
   ]
  },
  {
   "cell_type": "code",
   "execution_count": 10,
   "metadata": {},
   "outputs": [],
   "source": [
    "# read osoitedata (Postin avointa dataa)\n",
    "df_paikat = pd.read_csv('./BAF_new.csv', header=0, sep=';')"
   ]
  },
  {
   "cell_type": "code",
   "execution_count": 11,
   "metadata": {},
   "outputs": [
    {
     "name": "stdout",
     "output_type": "stream",
     "text": [
      "(405249, 5)\n",
      "postinro        int64\n",
      "kaupunki_fi    object\n",
      "kaupunki_sv    object\n",
      "osoite_fi      object\n",
      "osoite_sv      object\n",
      "dtype: object\n"
     ]
    }
   ],
   "source": [
    "print(df_paikat.shape)\n",
    "print(df_paikat.dtypes)"
   ]
  },
  {
   "cell_type": "code",
   "execution_count": 13,
   "metadata": {},
   "outputs": [],
   "source": [
    "# turhien rivien poisto osoitedatasta, esim. postilokerot PL/PB\n",
    "\n",
    "df_paikat['osoite_fi'].replace('', np.nan, inplace=True)\n",
    "df_paikat = df_paikat[~df_paikat.osoite_fi.str.contains(\"PL\\s\\d\", case=True, na=False, regex=True)]\n",
    "df_paikat = df_paikat[~df_paikat.osoite_fi.str.contains(\"PL\\d\", case=True, na=False, regex=True)]\n",
    "df_paikat = df_paikat[~df_paikat.osoite_fi.str.contains(\"PB\\s\\d\", case=True, na=False, regex=True)]\n",
    "df_paikat = df_paikat[~df_paikat.osoite_fi.str.contains(\"PB\\d\", case=True, na=False, regex=True)]"
   ]
  },
  {
   "cell_type": "code",
   "execution_count": 14,
   "metadata": {},
   "outputs": [
    {
     "data": {
      "text/html": [
       "<div>\n",
       "<style scoped>\n",
       "    .dataframe tbody tr th:only-of-type {\n",
       "        vertical-align: middle;\n",
       "    }\n",
       "\n",
       "    .dataframe tbody tr th {\n",
       "        vertical-align: top;\n",
       "    }\n",
       "\n",
       "    .dataframe thead th {\n",
       "        text-align: right;\n",
       "    }\n",
       "</style>\n",
       "<table border=\"1\" class=\"dataframe\">\n",
       "  <thead>\n",
       "    <tr style=\"text-align: right;\">\n",
       "      <th></th>\n",
       "      <th>postinro</th>\n",
       "      <th>kaupunki_fi</th>\n",
       "      <th>kaupunki_sv</th>\n",
       "      <th>osoite_fi</th>\n",
       "      <th>osoite_sv</th>\n",
       "    </tr>\n",
       "  </thead>\n",
       "  <tbody>\n",
       "    <tr>\n",
       "      <td>100</td>\n",
       "      <td>100</td>\n",
       "      <td>HELSINKI</td>\n",
       "      <td>HELSINGFORS</td>\n",
       "      <td>Annankatu</td>\n",
       "      <td>Annegatan</td>\n",
       "    </tr>\n",
       "    <tr>\n",
       "      <td>101</td>\n",
       "      <td>100</td>\n",
       "      <td>HELSINKI</td>\n",
       "      <td>HELSINGFORS</td>\n",
       "      <td>Itäinen Teatterikuja</td>\n",
       "      <td>Östra Teatergränden</td>\n",
       "    </tr>\n",
       "    <tr>\n",
       "      <td>102</td>\n",
       "      <td>100</td>\n",
       "      <td>HELSINKI</td>\n",
       "      <td>HELSINGFORS</td>\n",
       "      <td>Itäinen Teatterikuja</td>\n",
       "      <td>Östra Teatergränden</td>\n",
       "    </tr>\n",
       "    <tr>\n",
       "      <td>103</td>\n",
       "      <td>100</td>\n",
       "      <td>HELSINKI</td>\n",
       "      <td>HELSINGFORS</td>\n",
       "      <td>Kansalaistori</td>\n",
       "      <td>Medborgartorget</td>\n",
       "    </tr>\n",
       "    <tr>\n",
       "      <td>104</td>\n",
       "      <td>100</td>\n",
       "      <td>HELSINKI</td>\n",
       "      <td>HELSINGFORS</td>\n",
       "      <td>Kluuvikatu</td>\n",
       "      <td>Glogatan</td>\n",
       "    </tr>\n",
       "    <tr>\n",
       "      <td>105</td>\n",
       "      <td>100</td>\n",
       "      <td>HELSINKI</td>\n",
       "      <td>HELSINGFORS</td>\n",
       "      <td>Kluuvikatu</td>\n",
       "      <td>Glogatan</td>\n",
       "    </tr>\n",
       "    <tr>\n",
       "      <td>106</td>\n",
       "      <td>100</td>\n",
       "      <td>HELSINKI</td>\n",
       "      <td>HELSINGFORS</td>\n",
       "      <td>Mikonkatu</td>\n",
       "      <td>Mikaelsgatan</td>\n",
       "    </tr>\n",
       "    <tr>\n",
       "      <td>107</td>\n",
       "      <td>100</td>\n",
       "      <td>HELSINKI</td>\n",
       "      <td>HELSINGFORS</td>\n",
       "      <td>Mikonkatu</td>\n",
       "      <td>Mikaelsgatan</td>\n",
       "    </tr>\n",
       "    <tr>\n",
       "      <td>108</td>\n",
       "      <td>100</td>\n",
       "      <td>HELSINKI</td>\n",
       "      <td>HELSINGFORS</td>\n",
       "      <td>Eteläinen Rautatiekatu</td>\n",
       "      <td>Södra Järnvägsgatan</td>\n",
       "    </tr>\n",
       "    <tr>\n",
       "      <td>109</td>\n",
       "      <td>100</td>\n",
       "      <td>HELSINKI</td>\n",
       "      <td>HELSINGFORS</td>\n",
       "      <td>J. R. Aspelinin aukio</td>\n",
       "      <td>J. R. Aspelins plats</td>\n",
       "    </tr>\n",
       "    <tr>\n",
       "      <td>110</td>\n",
       "      <td>100</td>\n",
       "      <td>HELSINKI</td>\n",
       "      <td>HELSINGFORS</td>\n",
       "      <td>Leppäsuonaukio</td>\n",
       "      <td>Alkärrsplatsen</td>\n",
       "    </tr>\n",
       "    <tr>\n",
       "      <td>111</td>\n",
       "      <td>100</td>\n",
       "      <td>HELSINKI</td>\n",
       "      <td>HELSINGFORS</td>\n",
       "      <td>Pohjoisesplanadi</td>\n",
       "      <td>Norra esplanaden</td>\n",
       "    </tr>\n",
       "    <tr>\n",
       "      <td>112</td>\n",
       "      <td>100</td>\n",
       "      <td>HELSINKI</td>\n",
       "      <td>HELSINGFORS</td>\n",
       "      <td>Yliopistonkatu</td>\n",
       "      <td>Universitetsgatan</td>\n",
       "    </tr>\n",
       "    <tr>\n",
       "      <td>113</td>\n",
       "      <td>100</td>\n",
       "      <td>HELSINKI</td>\n",
       "      <td>HELSINGFORS</td>\n",
       "      <td>Yliopistonkatu</td>\n",
       "      <td>Universitetsgatan</td>\n",
       "    </tr>\n",
       "    <tr>\n",
       "      <td>114</td>\n",
       "      <td>100</td>\n",
       "      <td>HELSINKI</td>\n",
       "      <td>HELSINGFORS</td>\n",
       "      <td>Aurorankatu</td>\n",
       "      <td>Auroragatan</td>\n",
       "    </tr>\n",
       "  </tbody>\n",
       "</table>\n",
       "</div>"
      ],
      "text/plain": [
       "     postinro kaupunki_fi  kaupunki_sv               osoite_fi  \\\n",
       "100       100    HELSINKI  HELSINGFORS               Annankatu   \n",
       "101       100    HELSINKI  HELSINGFORS    Itäinen Teatterikuja   \n",
       "102       100    HELSINKI  HELSINGFORS    Itäinen Teatterikuja   \n",
       "103       100    HELSINKI  HELSINGFORS           Kansalaistori   \n",
       "104       100    HELSINKI  HELSINGFORS              Kluuvikatu   \n",
       "105       100    HELSINKI  HELSINGFORS              Kluuvikatu   \n",
       "106       100    HELSINKI  HELSINGFORS               Mikonkatu   \n",
       "107       100    HELSINKI  HELSINGFORS               Mikonkatu   \n",
       "108       100    HELSINKI  HELSINGFORS  Eteläinen Rautatiekatu   \n",
       "109       100    HELSINKI  HELSINGFORS   J. R. Aspelinin aukio   \n",
       "110       100    HELSINKI  HELSINGFORS          Leppäsuonaukio   \n",
       "111       100    HELSINKI  HELSINGFORS        Pohjoisesplanadi   \n",
       "112       100    HELSINKI  HELSINGFORS          Yliopistonkatu   \n",
       "113       100    HELSINKI  HELSINGFORS          Yliopistonkatu   \n",
       "114       100    HELSINKI  HELSINGFORS             Aurorankatu   \n",
       "\n",
       "                osoite_sv  \n",
       "100             Annegatan  \n",
       "101   Östra Teatergränden  \n",
       "102   Östra Teatergränden  \n",
       "103       Medborgartorget  \n",
       "104              Glogatan  \n",
       "105              Glogatan  \n",
       "106          Mikaelsgatan  \n",
       "107          Mikaelsgatan  \n",
       "108   Södra Järnvägsgatan  \n",
       "109  J. R. Aspelins plats  \n",
       "110        Alkärrsplatsen  \n",
       "111      Norra esplanaden  \n",
       "112     Universitetsgatan  \n",
       "113     Universitetsgatan  \n",
       "114           Auroragatan  "
      ]
     },
     "execution_count": 14,
     "metadata": {},
     "output_type": "execute_result"
    }
   ],
   "source": [
    "# esimerkki Postin avoimesta osoitedatasta\n",
    "df_paikat.reset_index(drop=True, inplace=True)\n",
    "df_paikat.iloc[100:115]"
   ]
  },
  {
   "cell_type": "code",
   "execution_count": 15,
   "metadata": {},
   "outputs": [],
   "source": [
    "# rajaa kohdedatasta vain postiosoite, postinumero, postitoimipaikka\n",
    "df2 = df[['K_KATUNIMI', 'K_POSTINUMERO', 'K_POSTITOIMIPAIKKA']].copy()"
   ]
  },
  {
   "cell_type": "code",
   "execution_count": 16,
   "metadata": {},
   "outputs": [],
   "source": [
    "#df2.head(5)"
   ]
  },
  {
   "cell_type": "code",
   "execution_count": 17,
   "metadata": {},
   "outputs": [
    {
     "data": {
      "text/plain": [
       "K_KATUNIMI             object\n",
       "K_POSTINUMERO         float64\n",
       "K_POSTITOIMIPAIKKA     object\n",
       "dtype: object"
      ]
     },
     "execution_count": 17,
     "metadata": {},
     "output_type": "execute_result"
    }
   ],
   "source": [
    "df2.dtypes"
   ]
  },
  {
   "cell_type": "code",
   "execution_count": 18,
   "metadata": {},
   "outputs": [
    {
     "data": {
      "text/plain": [
       "(16588, 3)"
      ]
     },
     "execution_count": 18,
     "metadata": {},
     "output_type": "execute_result"
    }
   ],
   "source": [
    "df2.shape"
   ]
  },
  {
   "cell_type": "code",
   "execution_count": 19,
   "metadata": {},
   "outputs": [
    {
     "name": "stdout",
     "output_type": "stream",
     "text": [
      "K_KATUNIMI - 19.0%\n",
      "K_POSTINUMERO - 19.0%\n",
      "K_POSTITOIMIPAIKKA - 19.0%\n"
     ]
    }
   ],
   "source": [
    "# missing data suhteet\n",
    "\n",
    "for col in df2.columns:\n",
    "    pct_missing = np.mean(df2[col].isnull())\n",
    "    print('{} - {}%'.format(col, round(pct_missing*100)))"
   ]
  },
  {
   "cell_type": "code",
   "execution_count": 20,
   "metadata": {},
   "outputs": [
    {
     "name": "stdout",
     "output_type": "stream",
     "text": [
      "postinro - 0.0%\n",
      "kaupunki_fi - 0.0%\n",
      "kaupunki_sv - 0.0%\n",
      "osoite_fi - 2.0%\n",
      "osoite_sv - 85.0%\n"
     ]
    }
   ],
   "source": [
    "for col in df_paikat.columns:\n",
    "    pct_missing = np.mean(df_paikat[col].isnull())\n",
    "    print('{} - {}%'.format(col, round(pct_missing*100)))"
   ]
  },
  {
   "cell_type": "code",
   "execution_count": 21,
   "metadata": {},
   "outputs": [],
   "source": [
    "# dropna df2, jos postiosoite tyhjä\n",
    "df2.dropna(subset=['K_KATUNIMI'], inplace=True)"
   ]
  },
  {
   "cell_type": "code",
   "execution_count": 22,
   "metadata": {},
   "outputs": [],
   "source": [
    "# postinro dtype vaihto integer\n",
    "df2['K_POSTINUMERO'] = df2['K_POSTINUMERO'].fillna(0).astype(np.int64)"
   ]
  },
  {
   "cell_type": "code",
   "execution_count": 23,
   "metadata": {},
   "outputs": [],
   "source": [
    "#df2.head(5)"
   ]
  },
  {
   "cell_type": "code",
   "execution_count": 24,
   "metadata": {},
   "outputs": [],
   "source": [
    "# poistetaan turhat rivit (esim. PL tai Poste Restante katunimi-kentässä)\n",
    "# tärkeämpi postiosoitteiden kanssa\n",
    "\n",
    "df2 = df2[~df2.K_KATUNIMI.str.contains(\"PL\\s\\d\", case=True, na=False, regex=True)]\n",
    "df2 = df2[~df2.K_KATUNIMI.str.contains(\"PL\\d\", case=True, na=False, regex=True)]\n",
    "df2 = df2[~df2.K_KATUNIMI.str.contains(\"PB\\s\\d\", case=True, na=False, regex=True)]\n",
    "df2 = df2[~df2.K_KATUNIMI.str.contains(\"PB\\d\", case=True, na=False, regex=True)]\n",
    "df2 = df2[~df2.K_KATUNIMI.str.contains('Poste Restante', na=False)]\n",
    "df2 = df2[~df2.K_KATUNIMI.str.contains(\"\\-\", case=True, na=False, regex=True)]"
   ]
  },
  {
   "cell_type": "code",
   "execution_count": 25,
   "metadata": {},
   "outputs": [],
   "source": [
    "# listataan kaikki viralliset kaupungit suomeksi ja ruotsiksi\n",
    "kaupungit = np.concatenate([df_paikat['kaupunki_fi'].unique() , df_paikat['kaupunki_sv'].unique()], axis=0)\n",
    "kaupungit = pd.Series(kaupungit)\n",
    "\n",
    "# otetaan mukaan vain rivit, joissa postitoimipk löytyy listalta\n",
    "df2 = df2[df2.K_POSTITOIMIPAIKKA.isin(kaupungit)]"
   ]
  },
  {
   "cell_type": "code",
   "execution_count": 26,
   "metadata": {},
   "outputs": [],
   "source": [
    "# Vain postiosoitteille:\n",
    "# splitataan postiosoite-sarake (katu erilleen)\n",
    "  \n",
    "# temporary dataframe\n",
    "# ensimmäisen numeron kohdalta poikki\n",
    "#new = df2['POSTIOSOITE'].str.split(\"\\s(?=\\d)\", n=1, expand=True)\n",
    "\n",
    "# new columns\n",
    "#df2['POSTIOSOITE_KATU'] = new[0]  \n",
    "#df2['POSTIOSOITE_NRO'] = new[1] \n",
    "\n",
    "# dropataan vanha postiosoite\n",
    "#df2.drop(columns =[\"POSTIOSOITE\"], inplace = True) "
   ]
  },
  {
   "cell_type": "code",
   "execution_count": 27,
   "metadata": {},
   "outputs": [],
   "source": [
    "# Vain postiosoitteille:\n",
    "# otetaan talteen rivit, joissa postiosoitteella ei kadunnumeroa (ei validi osoite)\n",
    "# poisteteaan nämä df2\n",
    "\n",
    "#df_nonumber = df2.loc[df_paikat['POSTIOSOITE_NRO'] == \"\"].copy()\n",
    "#df2.dropna(subset=['POSTIOSOITE_NRO'], inplace=True)"
   ]
  },
  {
   "cell_type": "code",
   "execution_count": 28,
   "metadata": {},
   "outputs": [],
   "source": [
    "# lisätään name_not_found column\n",
    "df2['name_not_found'] = np.nan\n",
    "\n",
    "df2.reset_index(drop=True, inplace=True)"
   ]
  },
  {
   "cell_type": "code",
   "execution_count": 31,
   "metadata": {},
   "outputs": [],
   "source": [
    "# luo flag jokaiseen osoitteeseen\n",
    "# löytyy osoitekannasta (true) / ei löydy (false)\n",
    "\n",
    "def checkIfFound(city, street):\n",
    "    current = df_paikat.loc[df_paikat['kaupunki_fi'] == city].append(df_paikat.loc[df_paikat['kaupunki_sv'] == city])\n",
    "    streets_current = current['osoite_fi'].dropna().append(current['osoite_sv'].dropna())\n",
    "    if street in streets_current[streets_current.str.startswith(street[0])].unique():\n",
    "        return 'False'\n",
    "    else:\n",
    "        return 'True'\n",
    "    \n",
    "df2['name_not_found'] = df2.apply(lambda row: checkIfFound(row['K_POSTITOIMIPAIKKA'], row['K_KATUNIMI']), axis=1)"
   ]
  },
  {
   "cell_type": "code",
   "execution_count": 32,
   "metadata": {},
   "outputs": [],
   "source": [
    "#df2.head(50)"
   ]
  },
  {
   "cell_type": "code",
   "execution_count": 33,
   "metadata": {},
   "outputs": [],
   "source": [
    "# käsitellään vain virheellisiä\n",
    "\n",
    "df2_notfound = df2[df2['name_not_found'] == 'True']\n",
    "#for i in df2_notfound.values:\n",
    "#    print(i)"
   ]
  },
  {
   "cell_type": "code",
   "execution_count": 34,
   "metadata": {},
   "outputs": [
    {
     "data": {
      "text/plain": [
       "358"
      ]
     },
     "execution_count": 34,
     "metadata": {},
     "output_type": "execute_result"
    }
   ],
   "source": [
    "# löydettyjen virheellisten lkm\n",
    "len(df2_notfound)"
   ]
  },
  {
   "cell_type": "code",
   "execution_count": 35,
   "metadata": {},
   "outputs": [],
   "source": [
    "#df2_notfound.head(50)"
   ]
  },
  {
   "cell_type": "code",
   "execution_count": 36,
   "metadata": {},
   "outputs": [
    {
     "name": "stderr",
     "output_type": "stream",
     "text": [
      "C:\\Users\\Tuomas\\Anaconda3\\lib\\site-packages\\ipykernel_launcher.py:9: SettingWithCopyWarning: \n",
      "A value is trying to be set on a copy of a slice from a DataFrame.\n",
      "Try using .loc[row_indexer,col_indexer] = value instead\n",
      "\n",
      "See the caveats in the documentation: http://pandas.pydata.org/pandas-docs/stable/user_guide/indexing.html#returning-a-view-versus-a-copy\n",
      "  if __name__ == '__main__':\n",
      "C:\\Users\\Tuomas\\Anaconda3\\lib\\site-packages\\ipykernel_launcher.py:10: SettingWithCopyWarning: \n",
      "A value is trying to be set on a copy of a slice from a DataFrame.\n",
      "Try using .loc[row_indexer,col_indexer] = value instead\n",
      "\n",
      "See the caveats in the documentation: http://pandas.pydata.org/pandas-docs/stable/user_guide/indexing.html#returning-a-view-versus-a-copy\n",
      "  # Remove the CWD from sys.path while we load stuff.\n",
      "C:\\Users\\Tuomas\\Anaconda3\\lib\\site-packages\\ipykernel_launcher.py:11: SettingWithCopyWarning: \n",
      "A value is trying to be set on a copy of a slice from a DataFrame.\n",
      "Try using .loc[row_indexer,col_indexer] = value instead\n",
      "\n",
      "See the caveats in the documentation: http://pandas.pydata.org/pandas-docs/stable/user_guide/indexing.html#returning-a-view-versus-a-copy\n",
      "  # This is added back by InteractiveShellApp.init_path()\n"
     ]
    }
   ],
   "source": [
    "# nltk imports\n",
    "from nltk.corpus import words\n",
    "from nltk.metrics.distance import (\n",
    "    edit_distance,\n",
    "    jaccard_distance,\n",
    "    )\n",
    "from nltk.util import ngrams\n",
    "\n",
    "df2_notfound['jaccard'] = np.nan\n",
    "df2_notfound['jaccard_ng'] = np.nan\n",
    "df2_notfound['edit_distance'] = np.nan\n",
    "df2_notfound.reset_index(drop=True, inplace=True)"
   ]
  },
  {
   "cell_type": "code",
   "execution_count": 37,
   "metadata": {},
   "outputs": [],
   "source": [
    "# autocorrectin kaltainen systeemi\n",
    "# funktiot käyttävät sanakirjan sijaan listaa oikeista osoitteista\n",
    "# vertaillaan vuorotellen jokaista käsiteltävää osoitetta virallisen kannan osoitteisiin\n",
    "\n",
    "def jaccard_ng(toimipk, entry, gram_number):\n",
    "    df_paikat_current = df_paikat.loc[(df_paikat['kaupunki_fi'] == toimipk) | (df_paikat['kaupunki_sv'] == toimipk)]\n",
    "    spellings = df_paikat_current['osoite_fi'].dropna().append(df_paikat_current['osoite_sv'].dropna())\n",
    "    spellings = spellings[spellings.str.startswith(entry[0])] # vertaillaan samalla alkukirjaimella\n",
    "    \n",
    "    distances = ((jaccard_distance(set(ngrams(entry, gram_number)), \n",
    "                                   set(ngrams(word, gram_number))), word) for word in spellings)\n",
    "    closest = min(distances, default=\"EMPTY\") # empty poikkeusten varalle\n",
    "    if closest != 'EMPTY':\n",
    "        return closest[1]\n",
    "        \n",
    "def jaccard(toimipk, entry):\n",
    "    df_paikat_current = df_paikat.loc[(df_paikat['kaupunki_fi'] == toimipk) | (df_paikat['kaupunki_sv'] == toimipk)]\n",
    "    spellings = df_paikat_current['osoite_fi'].dropna().append(df_paikat_current['osoite_sv'].dropna())\n",
    "    spellings = spellings[spellings.str.startswith(entry[0])] # vertaillaan samalla alkukirjaimella\n",
    "    \n",
    "    distances = ((jaccard_distance(set(entry), set(word)), word) for word in spellings)\n",
    "    closest = min(distances, default=\"EMPTY\")\n",
    "    #print(closest)\n",
    "    if closest != 'EMPTY':\n",
    "        return closest[1]        \n",
    "\n",
    "def edit_dist(toimipk, entry):\n",
    "    df_paikat_current = df_paikat.loc[(df_paikat['kaupunki_fi'] == toimipk) | (df_paikat['kaupunki_sv'] == toimipk)]\n",
    "    spellings = df_paikat_current['osoite_fi'].dropna().append(df_paikat_current['osoite_sv'].dropna())\n",
    "    spellings = spellings[spellings.str.startswith(entry[0])] # vertaillaan samalla alkukirjaimella\n",
    "    \n",
    "    distances = ((edit_distance(entry, word), word) for word in spellings)\n",
    "    closest = min(distances, default=\"EMPTY\")\n",
    "    #print(closest)\n",
    "    if closest != 'EMPTY':\n",
    "        return closest[1]"
   ]
  },
  {
   "cell_type": "code",
   "execution_count": 38,
   "metadata": {},
   "outputs": [
    {
     "name": "stderr",
     "output_type": "stream",
     "text": [
      "C:\\Users\\Tuomas\\Anaconda3\\lib\\site-packages\\ipykernel_launcher.py:1: SettingWithCopyWarning: \n",
      "A value is trying to be set on a copy of a slice from a DataFrame.\n",
      "Try using .loc[row_indexer,col_indexer] = value instead\n",
      "\n",
      "See the caveats in the documentation: http://pandas.pydata.org/pandas-docs/stable/user_guide/indexing.html#returning-a-view-versus-a-copy\n",
      "  \"\"\"Entry point for launching an IPython kernel.\n"
     ]
    }
   ],
   "source": [
    "df2_notfound['jaccard'] = df2_notfound.apply(lambda row: jaccard(row['K_POSTITOIMIPAIKKA'], row['K_KATUNIMI']), axis=1)"
   ]
  },
  {
   "cell_type": "code",
   "execution_count": 39,
   "metadata": {},
   "outputs": [
    {
     "name": "stderr",
     "output_type": "stream",
     "text": [
      "C:\\Users\\Tuomas\\Anaconda3\\lib\\site-packages\\ipykernel_launcher.py:1: SettingWithCopyWarning: \n",
      "A value is trying to be set on a copy of a slice from a DataFrame.\n",
      "Try using .loc[row_indexer,col_indexer] = value instead\n",
      "\n",
      "See the caveats in the documentation: http://pandas.pydata.org/pandas-docs/stable/user_guide/indexing.html#returning-a-view-versus-a-copy\n",
      "  \"\"\"Entry point for launching an IPython kernel.\n"
     ]
    }
   ],
   "source": [
    "df2_notfound['jaccard_ng'] = df2_notfound.apply(lambda row: jaccard_ng(row['K_POSTITOIMIPAIKKA'], row['K_KATUNIMI'], 2), axis=1)"
   ]
  },
  {
   "cell_type": "code",
   "execution_count": 40,
   "metadata": {},
   "outputs": [
    {
     "name": "stderr",
     "output_type": "stream",
     "text": [
      "C:\\Users\\Tuomas\\Anaconda3\\lib\\site-packages\\ipykernel_launcher.py:1: SettingWithCopyWarning: \n",
      "A value is trying to be set on a copy of a slice from a DataFrame.\n",
      "Try using .loc[row_indexer,col_indexer] = value instead\n",
      "\n",
      "See the caveats in the documentation: http://pandas.pydata.org/pandas-docs/stable/user_guide/indexing.html#returning-a-view-versus-a-copy\n",
      "  \"\"\"Entry point for launching an IPython kernel.\n"
     ]
    }
   ],
   "source": [
    "df2_notfound['edit_distance'] = df2_notfound.apply(lambda row: edit_dist(row['K_POSTITOIMIPAIKKA'], row['K_KATUNIMI']), axis=1)"
   ]
  },
  {
   "cell_type": "code",
   "execution_count": 55,
   "metadata": {
    "scrolled": false
   },
   "outputs": [
    {
     "data": {
      "text/html": [
       "<div>\n",
       "<style scoped>\n",
       "    .dataframe tbody tr th:only-of-type {\n",
       "        vertical-align: middle;\n",
       "    }\n",
       "\n",
       "    .dataframe tbody tr th {\n",
       "        vertical-align: top;\n",
       "    }\n",
       "\n",
       "    .dataframe thead th {\n",
       "        text-align: right;\n",
       "    }\n",
       "</style>\n",
       "<table border=\"1\" class=\"dataframe\">\n",
       "  <thead>\n",
       "    <tr style=\"text-align: right;\">\n",
       "      <th></th>\n",
       "      <th>K_KATUNIMI</th>\n",
       "      <th>K_POSTINUMERO</th>\n",
       "      <th>K_POSTITOIMIPAIKKA</th>\n",
       "      <th>name_not_found</th>\n",
       "      <th>jaccard</th>\n",
       "      <th>jaccard_ng</th>\n",
       "      <th>edit_distance</th>\n",
       "    </tr>\n",
       "  </thead>\n",
       "  <tbody>\n",
       "    <tr>\n",
       "      <td>150</td>\n",
       "      <td>Porpuripolku</td>\n",
       "      <td>420</td>\n",
       "      <td>HELSINKI</td>\n",
       "      <td>True</td>\n",
       "      <td>Purpuripolku</td>\n",
       "      <td>Purpuripolku</td>\n",
       "      <td>Purpuripolku</td>\n",
       "    </tr>\n",
       "    <tr>\n",
       "      <td>151</td>\n",
       "      <td>Franzeninkatu</td>\n",
       "      <td>500</td>\n",
       "      <td>HELSINKI</td>\n",
       "      <td>True</td>\n",
       "      <td>Franzéninkatu</td>\n",
       "      <td>Franzéninkatu</td>\n",
       "      <td>Franzéninkatu</td>\n",
       "    </tr>\n",
       "    <tr>\n",
       "      <td>152</td>\n",
       "      <td>Neljäs Linja</td>\n",
       "      <td>530</td>\n",
       "      <td>HELSINKI</td>\n",
       "      <td>True</td>\n",
       "      <td>Neljäs linja</td>\n",
       "      <td>Neljäs linja</td>\n",
       "      <td>Neljäs linja</td>\n",
       "    </tr>\n",
       "    <tr>\n",
       "      <td>153</td>\n",
       "      <td>Stålbergintie</td>\n",
       "      <td>570</td>\n",
       "      <td>HELSINKI</td>\n",
       "      <td>True</td>\n",
       "      <td>Ståhlbergintie</td>\n",
       "      <td>Ståhlbergintie</td>\n",
       "      <td>Ståhlbergintie</td>\n",
       "    </tr>\n",
       "    <tr>\n",
       "      <td>154</td>\n",
       "      <td>Vanha Talvitie</td>\n",
       "      <td>580</td>\n",
       "      <td>HELSINKI</td>\n",
       "      <td>True</td>\n",
       "      <td>Vanha talvitie</td>\n",
       "      <td>Vanha talvitie</td>\n",
       "      <td>Vanha talvitie</td>\n",
       "    </tr>\n",
       "    <tr>\n",
       "      <td>155</td>\n",
       "      <td>Laivalahden Puistotie</td>\n",
       "      <td>810</td>\n",
       "      <td>HELSINKI</td>\n",
       "      <td>True</td>\n",
       "      <td>Laivalahden puistotie</td>\n",
       "      <td>Laivalahden puistotie</td>\n",
       "      <td>Laivalahden puistotie</td>\n",
       "    </tr>\n",
       "    <tr>\n",
       "      <td>156</td>\n",
       "      <td>Kasteholmantie</td>\n",
       "      <td>900</td>\n",
       "      <td>HELSINKI</td>\n",
       "      <td>True</td>\n",
       "      <td>Kastelholmantie</td>\n",
       "      <td>Kastelholmantie</td>\n",
       "      <td>Kastelholmantie</td>\n",
       "    </tr>\n",
       "    <tr>\n",
       "      <td>157</td>\n",
       "      <td>Liikkalalntie</td>\n",
       "      <td>950</td>\n",
       "      <td>HELSINKI</td>\n",
       "      <td>True</td>\n",
       "      <td>Liikkalantie</td>\n",
       "      <td>Liikkalantie</td>\n",
       "      <td>Liikkalantie</td>\n",
       "    </tr>\n",
       "    <tr>\n",
       "      <td>158</td>\n",
       "      <td>Hallipiha</td>\n",
       "      <td>1450</td>\n",
       "      <td>VANTAA</td>\n",
       "      <td>True</td>\n",
       "      <td>Hallinpiha</td>\n",
       "      <td>Hallinpiha</td>\n",
       "      <td>Hallinpiha</td>\n",
       "    </tr>\n",
       "    <tr>\n",
       "      <td>159</td>\n",
       "      <td>Raapavuorenpolku</td>\n",
       "      <td>1620</td>\n",
       "      <td>VANTAA</td>\n",
       "      <td>True</td>\n",
       "      <td>Raappavuorenpolku</td>\n",
       "      <td>Raappavuorenpolku</td>\n",
       "      <td>Raappavuorenpolku</td>\n",
       "    </tr>\n",
       "    <tr>\n",
       "      <td>160</td>\n",
       "      <td>Vanha Hämeenkyläntie</td>\n",
       "      <td>1650</td>\n",
       "      <td>VANTAA</td>\n",
       "      <td>True</td>\n",
       "      <td>Vanhankyläntie</td>\n",
       "      <td>Vanhankyläntie</td>\n",
       "      <td>Vanhankyläntie</td>\n",
       "    </tr>\n",
       "    <tr>\n",
       "      <td>161</td>\n",
       "      <td>Puotilankaari</td>\n",
       "      <td>1900</td>\n",
       "      <td>NURMIJÄRVI</td>\n",
       "      <td>True</td>\n",
       "      <td>Puontilankaari</td>\n",
       "      <td>Puontilankaari</td>\n",
       "      <td>Puontilankaari</td>\n",
       "    </tr>\n",
       "  </tbody>\n",
       "</table>\n",
       "</div>"
      ],
      "text/plain": [
       "                K_KATUNIMI  K_POSTINUMERO K_POSTITOIMIPAIKKA name_not_found  \\\n",
       "150           Porpuripolku            420           HELSINKI           True   \n",
       "151          Franzeninkatu            500           HELSINKI           True   \n",
       "152           Neljäs Linja            530           HELSINKI           True   \n",
       "153          Stålbergintie            570           HELSINKI           True   \n",
       "154         Vanha Talvitie            580           HELSINKI           True   \n",
       "155  Laivalahden Puistotie            810           HELSINKI           True   \n",
       "156         Kasteholmantie            900           HELSINKI           True   \n",
       "157          Liikkalalntie            950           HELSINKI           True   \n",
       "158              Hallipiha           1450             VANTAA           True   \n",
       "159       Raapavuorenpolku           1620             VANTAA           True   \n",
       "160   Vanha Hämeenkyläntie           1650             VANTAA           True   \n",
       "161          Puotilankaari           1900         NURMIJÄRVI           True   \n",
       "\n",
       "                   jaccard             jaccard_ng          edit_distance  \n",
       "150           Purpuripolku           Purpuripolku           Purpuripolku  \n",
       "151          Franzéninkatu          Franzéninkatu          Franzéninkatu  \n",
       "152           Neljäs linja           Neljäs linja           Neljäs linja  \n",
       "153         Ståhlbergintie         Ståhlbergintie         Ståhlbergintie  \n",
       "154         Vanha talvitie         Vanha talvitie         Vanha talvitie  \n",
       "155  Laivalahden puistotie  Laivalahden puistotie  Laivalahden puistotie  \n",
       "156        Kastelholmantie        Kastelholmantie        Kastelholmantie  \n",
       "157           Liikkalantie           Liikkalantie           Liikkalantie  \n",
       "158             Hallinpiha             Hallinpiha             Hallinpiha  \n",
       "159      Raappavuorenpolku      Raappavuorenpolku      Raappavuorenpolku  \n",
       "160         Vanhankyläntie         Vanhankyläntie         Vanhankyläntie  \n",
       "161         Puontilankaari         Puontilankaari         Puontilankaari  "
      ]
     },
     "execution_count": 55,
     "metadata": {},
     "output_type": "execute_result"
    }
   ],
   "source": [
    "# muutama esimerkki tuloksista\n",
    "\n",
    "df2_notfound.iloc[150:162]\n",
    "#df2_notfound.head(50)"
   ]
  },
  {
   "cell_type": "code",
   "execution_count": 42,
   "metadata": {},
   "outputs": [
    {
     "name": "stdout",
     "output_type": "stream",
     "text": [
      "0.23076923076923078\n"
     ]
    }
   ],
   "source": [
    "# test\n",
    "jc = (jaccard_distance(set('Lukkarinmäen tie'), set('Lukkarimäenkuja')))\n",
    "print(jc)"
   ]
  },
  {
   "cell_type": "code",
   "execution_count": 43,
   "metadata": {},
   "outputs": [],
   "source": [
    "# into csv\n",
    "df2_notfound.to_csv(r'./testi_dataset2.csv', index = False, header=True)"
   ]
  },
  {
   "cell_type": "code",
   "execution_count": null,
   "metadata": {},
   "outputs": [],
   "source": []
  }
 ],
 "metadata": {
  "kernelspec": {
   "display_name": "Python 3",
   "language": "python",
   "name": "python3"
  },
  "language_info": {
   "codemirror_mode": {
    "name": "ipython",
    "version": 3
   },
   "file_extension": ".py",
   "mimetype": "text/x-python",
   "name": "python",
   "nbconvert_exporter": "python",
   "pygments_lexer": "ipython3",
   "version": "3.7.4"
  }
 },
 "nbformat": 4,
 "nbformat_minor": 2
}
